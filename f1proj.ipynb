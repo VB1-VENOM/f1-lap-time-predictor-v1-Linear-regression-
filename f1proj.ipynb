{
 "cells": [
  {
   "cell_type": "code",
   "execution_count": 1,
   "id": "eb686074",
   "metadata": {},
   "outputs": [],
   "source": [
    "#installing dependencies\n",
    "import pandas as pd\n",
    "import seaborn as sns\n",
    "import numpy as np"
   ]
  },
  {
   "cell_type": "code",
   "execution_count": 2,
   "id": "f5d7400c",
   "metadata": {},
   "outputs": [],
   "source": [
    "data=pd.read_csv(\"/Volumes/Transcend/f1 databases/finalma1.csv\")"
   ]
  },
  {
   "cell_type": "code",
   "execution_count": 3,
   "id": "3ffa0fe6",
   "metadata": {},
   "outputs": [
    {
     "data": {
      "text/html": [
       "<div>\n",
       "<style scoped>\n",
       "    .dataframe tbody tr th:only-of-type {\n",
       "        vertical-align: middle;\n",
       "    }\n",
       "\n",
       "    .dataframe tbody tr th {\n",
       "        vertical-align: top;\n",
       "    }\n",
       "\n",
       "    .dataframe thead th {\n",
       "        text-align: right;\n",
       "    }\n",
       "</style>\n",
       "<table border=\"1\" class=\"dataframe\">\n",
       "  <thead>\n",
       "    <tr style=\"text-align: right;\">\n",
       "      <th></th>\n",
       "      <th>ID</th>\n",
       "      <th>Year</th>\n",
       "      <th>Circuit</th>\n",
       "      <th>RaceID</th>\n",
       "      <th>DriverID</th>\n",
       "      <th>LapTime</th>\n",
       "      <th>LapTime1</th>\n",
       "    </tr>\n",
       "  </thead>\n",
       "  <tbody>\n",
       "    <tr>\n",
       "      <th>0</th>\n",
       "      <td>1</td>\n",
       "      <td>2009</td>\n",
       "      <td>Italy</td>\n",
       "      <td>13</td>\n",
       "      <td>1</td>\n",
       "      <td>01:29.9</td>\n",
       "      <td>89.9</td>\n",
       "    </tr>\n",
       "    <tr>\n",
       "      <th>1</th>\n",
       "      <td>2</td>\n",
       "      <td>2009</td>\n",
       "      <td>Italy</td>\n",
       "      <td>13</td>\n",
       "      <td>1</td>\n",
       "      <td>01:26.5</td>\n",
       "      <td>86.5</td>\n",
       "    </tr>\n",
       "    <tr>\n",
       "      <th>2</th>\n",
       "      <td>3</td>\n",
       "      <td>2009</td>\n",
       "      <td>Italy</td>\n",
       "      <td>13</td>\n",
       "      <td>1</td>\n",
       "      <td>01:26.4</td>\n",
       "      <td>86.4</td>\n",
       "    </tr>\n",
       "    <tr>\n",
       "      <th>3</th>\n",
       "      <td>4</td>\n",
       "      <td>2009</td>\n",
       "      <td>Italy</td>\n",
       "      <td>13</td>\n",
       "      <td>1</td>\n",
       "      <td>01:25.7</td>\n",
       "      <td>85.7</td>\n",
       "    </tr>\n",
       "    <tr>\n",
       "      <th>4</th>\n",
       "      <td>5</td>\n",
       "      <td>2009</td>\n",
       "      <td>Italy</td>\n",
       "      <td>13</td>\n",
       "      <td>1</td>\n",
       "      <td>01:25.8</td>\n",
       "      <td>85.8</td>\n",
       "    </tr>\n",
       "  </tbody>\n",
       "</table>\n",
       "</div>"
      ],
      "text/plain": [
       "   ID  Year Circuit  RaceID  DriverID  LapTime  LapTime1\n",
       "0   1  2009   Italy      13         1  01:29.9      89.9\n",
       "1   2  2009   Italy      13         1  01:26.5      86.5\n",
       "2   3  2009   Italy      13         1  01:26.4      86.4\n",
       "3   4  2009   Italy      13         1  01:25.7      85.7\n",
       "4   5  2009   Italy      13         1  01:25.8      85.8"
      ]
     },
     "execution_count": 3,
     "metadata": {},
     "output_type": "execute_result"
    }
   ],
   "source": [
    "data.head()"
   ]
  },
  {
   "cell_type": "code",
   "execution_count": 4,
   "id": "645a6793",
   "metadata": {},
   "outputs": [
    {
     "data": {
      "text/html": [
       "<div>\n",
       "<style scoped>\n",
       "    .dataframe tbody tr th:only-of-type {\n",
       "        vertical-align: middle;\n",
       "    }\n",
       "\n",
       "    .dataframe tbody tr th {\n",
       "        vertical-align: top;\n",
       "    }\n",
       "\n",
       "    .dataframe thead th {\n",
       "        text-align: right;\n",
       "    }\n",
       "</style>\n",
       "<table border=\"1\" class=\"dataframe\">\n",
       "  <thead>\n",
       "    <tr style=\"text-align: right;\">\n",
       "      <th></th>\n",
       "      <th>ID</th>\n",
       "      <th>Year</th>\n",
       "      <th>Circuit</th>\n",
       "      <th>RaceID</th>\n",
       "      <th>DriverID</th>\n",
       "      <th>LapTime</th>\n",
       "      <th>LapTime1</th>\n",
       "    </tr>\n",
       "  </thead>\n",
       "  <tbody>\n",
       "    <tr>\n",
       "      <th>148566</th>\n",
       "      <td>148567</td>\n",
       "      <td>1996</td>\n",
       "      <td>Australia</td>\n",
       "      <td>224</td>\n",
       "      <td>21</td>\n",
       "      <td>01:40.7</td>\n",
       "      <td>100.7</td>\n",
       "    </tr>\n",
       "    <tr>\n",
       "      <th>148567</th>\n",
       "      <td>148568</td>\n",
       "      <td>1996</td>\n",
       "      <td>Australia</td>\n",
       "      <td>224</td>\n",
       "      <td>21</td>\n",
       "      <td>01:40.7</td>\n",
       "      <td>100.7</td>\n",
       "    </tr>\n",
       "    <tr>\n",
       "      <th>148568</th>\n",
       "      <td>148569</td>\n",
       "      <td>1996</td>\n",
       "      <td>Australia</td>\n",
       "      <td>224</td>\n",
       "      <td>21</td>\n",
       "      <td>01:41.8</td>\n",
       "      <td>101.8</td>\n",
       "    </tr>\n",
       "    <tr>\n",
       "      <th>148569</th>\n",
       "      <td>148570</td>\n",
       "      <td>1996</td>\n",
       "      <td>Australia</td>\n",
       "      <td>224</td>\n",
       "      <td>21</td>\n",
       "      <td>01:40.2</td>\n",
       "      <td>100.2</td>\n",
       "    </tr>\n",
       "    <tr>\n",
       "      <th>148570</th>\n",
       "      <td>148571</td>\n",
       "      <td>1996</td>\n",
       "      <td>Australia</td>\n",
       "      <td>224</td>\n",
       "      <td>21</td>\n",
       "      <td>01:41.6</td>\n",
       "      <td>101.6</td>\n",
       "    </tr>\n",
       "  </tbody>\n",
       "</table>\n",
       "</div>"
      ],
      "text/plain": [
       "            ID  Year    Circuit  RaceID  DriverID  LapTime  LapTime1\n",
       "148566  148567  1996  Australia     224        21  01:40.7     100.7\n",
       "148567  148568  1996  Australia     224        21  01:40.7     100.7\n",
       "148568  148569  1996  Australia     224        21  01:41.8     101.8\n",
       "148569  148570  1996  Australia     224        21  01:40.2     100.2\n",
       "148570  148571  1996  Australia     224        21  01:41.6     101.6"
      ]
     },
     "execution_count": 4,
     "metadata": {},
     "output_type": "execute_result"
    }
   ],
   "source": [
    "data.tail()"
   ]
  },
  {
   "cell_type": "code",
   "execution_count": 5,
   "id": "8cd5857c",
   "metadata": {},
   "outputs": [
    {
     "data": {
      "text/plain": [
       "Index(['ID', 'Year', 'Circuit', 'RaceID', 'DriverID', 'LapTime', 'LapTime1'], dtype='object')"
      ]
     },
     "execution_count": 5,
     "metadata": {},
     "output_type": "execute_result"
    }
   ],
   "source": [
    "data.columns"
   ]
  },
  {
   "cell_type": "code",
   "execution_count": 6,
   "id": "60590e7a",
   "metadata": {},
   "outputs": [
    {
     "data": {
      "text/plain": [
       "(148571, 7)"
      ]
     },
     "execution_count": 6,
     "metadata": {},
     "output_type": "execute_result"
    }
   ],
   "source": [
    "data.shape"
   ]
  },
  {
   "cell_type": "code",
   "execution_count": 7,
   "id": "146a2343",
   "metadata": {},
   "outputs": [
    {
     "data": {
      "text/plain": [
       "<bound method NDFrame.describe of             ID  Year    Circuit  RaceID  DriverID  LapTime  LapTime1\n",
       "0            1  2009      Italy      13         1  01:29.9      89.9\n",
       "1            2  2009      Italy      13         1  01:26.5      86.5\n",
       "2            3  2009      Italy      13         1  01:26.4      86.4\n",
       "3            4  2009      Italy      13         1  01:25.7      85.7\n",
       "4            5  2009      Italy      13         1  01:25.8      85.8\n",
       "...        ...   ...        ...     ...       ...      ...       ...\n",
       "148566  148567  1996  Australia     224        21  01:40.7     100.7\n",
       "148567  148568  1996  Australia     224        21  01:40.7     100.7\n",
       "148568  148569  1996  Australia     224        21  01:41.8     101.8\n",
       "148569  148570  1996  Australia     224        21  01:40.2     100.2\n",
       "148570  148571  1996  Australia     224        21  01:41.6     101.6\n",
       "\n",
       "[148571 rows x 7 columns]>"
      ]
     },
     "execution_count": 7,
     "metadata": {},
     "output_type": "execute_result"
    }
   ],
   "source": [
    "data.describe"
   ]
  },
  {
   "cell_type": "code",
   "execution_count": 8,
   "id": "704a1dca",
   "metadata": {},
   "outputs": [
    {
     "data": {
      "text/html": [
       "<div>\n",
       "<style scoped>\n",
       "    .dataframe tbody tr th:only-of-type {\n",
       "        vertical-align: middle;\n",
       "    }\n",
       "\n",
       "    .dataframe tbody tr th {\n",
       "        vertical-align: top;\n",
       "    }\n",
       "\n",
       "    .dataframe thead th {\n",
       "        text-align: right;\n",
       "    }\n",
       "</style>\n",
       "<table border=\"1\" class=\"dataframe\">\n",
       "  <thead>\n",
       "    <tr style=\"text-align: right;\">\n",
       "      <th></th>\n",
       "      <th>ID</th>\n",
       "      <th>Year</th>\n",
       "      <th>RaceID</th>\n",
       "      <th>DriverID</th>\n",
       "      <th>LapTime1</th>\n",
       "    </tr>\n",
       "  </thead>\n",
       "  <tbody>\n",
       "    <tr>\n",
       "      <th>count</th>\n",
       "      <td>148571.000000</td>\n",
       "      <td>148571.000000</td>\n",
       "      <td>148571.000000</td>\n",
       "      <td>148571.000000</td>\n",
       "      <td>148571.000000</td>\n",
       "    </tr>\n",
       "    <tr>\n",
       "      <th>mean</th>\n",
       "      <td>74286.000000</td>\n",
       "      <td>2008.451636</td>\n",
       "      <td>477.766455</td>\n",
       "      <td>230.565373</td>\n",
       "      <td>95.177074</td>\n",
       "    </tr>\n",
       "    <tr>\n",
       "      <th>std</th>\n",
       "      <td>42888.897759</td>\n",
       "      <td>7.038290</td>\n",
       "      <td>405.316557</td>\n",
       "      <td>346.652751</td>\n",
       "      <td>36.559033</td>\n",
       "    </tr>\n",
       "    <tr>\n",
       "      <th>min</th>\n",
       "      <td>1.000000</td>\n",
       "      <td>1996.000000</td>\n",
       "      <td>1.000000</td>\n",
       "      <td>1.000000</td>\n",
       "      <td>67.400000</td>\n",
       "    </tr>\n",
       "    <tr>\n",
       "      <th>25%</th>\n",
       "      <td>37143.500000</td>\n",
       "      <td>2002.000000</td>\n",
       "      <td>112.000000</td>\n",
       "      <td>14.000000</td>\n",
       "      <td>84.400000</td>\n",
       "    </tr>\n",
       "    <tr>\n",
       "      <th>50%</th>\n",
       "      <td>74286.000000</td>\n",
       "      <td>2009.000000</td>\n",
       "      <td>224.000000</td>\n",
       "      <td>30.000000</td>\n",
       "      <td>89.400000</td>\n",
       "    </tr>\n",
       "    <tr>\n",
       "      <th>75%</th>\n",
       "      <td>111428.500000</td>\n",
       "      <td>2014.000000</td>\n",
       "      <td>911.000000</td>\n",
       "      <td>807.000000</td>\n",
       "      <td>98.000000</td>\n",
       "    </tr>\n",
       "    <tr>\n",
       "      <th>max</th>\n",
       "      <td>148571.000000</td>\n",
       "      <td>2021.000000</td>\n",
       "      <td>1056.000000</td>\n",
       "      <td>854.000000</td>\n",
       "      <td>1685.400000</td>\n",
       "    </tr>\n",
       "  </tbody>\n",
       "</table>\n",
       "</div>"
      ],
      "text/plain": [
       "                  ID           Year         RaceID       DriverID  \\\n",
       "count  148571.000000  148571.000000  148571.000000  148571.000000   \n",
       "mean    74286.000000    2008.451636     477.766455     230.565373   \n",
       "std     42888.897759       7.038290     405.316557     346.652751   \n",
       "min         1.000000    1996.000000       1.000000       1.000000   \n",
       "25%     37143.500000    2002.000000     112.000000      14.000000   \n",
       "50%     74286.000000    2009.000000     224.000000      30.000000   \n",
       "75%    111428.500000    2014.000000     911.000000     807.000000   \n",
       "max    148571.000000    2021.000000    1056.000000     854.000000   \n",
       "\n",
       "            LapTime1  \n",
       "count  148571.000000  \n",
       "mean       95.177074  \n",
       "std        36.559033  \n",
       "min        67.400000  \n",
       "25%        84.400000  \n",
       "50%        89.400000  \n",
       "75%        98.000000  \n",
       "max      1685.400000  "
      ]
     },
     "execution_count": 8,
     "metadata": {},
     "output_type": "execute_result"
    }
   ],
   "source": [
    "data.describe()"
   ]
  },
  {
   "cell_type": "code",
   "execution_count": 9,
   "id": "efbc5dd5",
   "metadata": {},
   "outputs": [
    {
     "data": {
      "text/plain": [
       "<bound method DataFrame.isnull of             ID  Year    Circuit  RaceID  DriverID  LapTime  LapTime1\n",
       "0            1  2009      Italy      13         1  01:29.9      89.9\n",
       "1            2  2009      Italy      13         1  01:26.5      86.5\n",
       "2            3  2009      Italy      13         1  01:26.4      86.4\n",
       "3            4  2009      Italy      13         1  01:25.7      85.7\n",
       "4            5  2009      Italy      13         1  01:25.8      85.8\n",
       "...        ...   ...        ...     ...       ...      ...       ...\n",
       "148566  148567  1996  Australia     224        21  01:40.7     100.7\n",
       "148567  148568  1996  Australia     224        21  01:40.7     100.7\n",
       "148568  148569  1996  Australia     224        21  01:41.8     101.8\n",
       "148569  148570  1996  Australia     224        21  01:40.2     100.2\n",
       "148570  148571  1996  Australia     224        21  01:41.6     101.6\n",
       "\n",
       "[148571 rows x 7 columns]>"
      ]
     },
     "execution_count": 9,
     "metadata": {},
     "output_type": "execute_result"
    }
   ],
   "source": [
    "data.isnull"
   ]
  },
  {
   "cell_type": "code",
   "execution_count": 10,
   "id": "33d62e19",
   "metadata": {},
   "outputs": [
    {
     "data": {
      "text/plain": [
       "ID          0\n",
       "Year        0\n",
       "Circuit     0\n",
       "RaceID      0\n",
       "DriverID    0\n",
       "LapTime     0\n",
       "LapTime1    0\n",
       "dtype: int64"
      ]
     },
     "execution_count": 10,
     "metadata": {},
     "output_type": "execute_result"
    }
   ],
   "source": [
    "data.isnull().sum()"
   ]
  },
  {
   "cell_type": "code",
   "execution_count": null,
   "id": "f5fd968a",
   "metadata": {},
   "outputs": [],
   "source": []
  },
  {
   "cell_type": "code",
   "execution_count": null,
   "id": "7cfe1f92",
   "metadata": {},
   "outputs": [],
   "source": []
  },
  {
   "cell_type": "code",
   "execution_count": 11,
   "id": "03387d5b",
   "metadata": {},
   "outputs": [],
   "source": [
    "#model"
   ]
  },
  {
   "cell_type": "code",
   "execution_count": 14,
   "id": "150708dd",
   "metadata": {},
   "outputs": [],
   "source": [
    "from sklearn.linear_model import LinearRegression\n",
    "from sklearn.model_selection import train_test_split"
   ]
  },
  {
   "cell_type": "code",
   "execution_count": 49,
   "id": "72dd5368",
   "metadata": {},
   "outputs": [],
   "source": [
    "train=data.drop(['ID','RaceID','LapTime','Circuit','LapTime1'],axis=1)\n",
    "test=data['LapTime1']"
   ]
  },
  {
   "cell_type": "code",
   "execution_count": 50,
   "id": "795ce6a0",
   "metadata": {},
   "outputs": [
    {
     "name": "stdout",
     "output_type": "stream",
     "text": [
      "        Year  DriverID\n",
      "72158   2013        18\n",
      "35326   2005        39\n",
      "40820   1996        83\n",
      "73336   2014        20\n",
      "6662    2015        18\n",
      "...      ...       ...\n",
      "37311   2000        57\n",
      "9301    2018       830\n",
      "146407  1998        56\n",
      "68678   2011         3\n",
      "136844  2019       154\n",
      "\n",
      "[44572 rows x 2 columns]\n"
     ]
    }
   ],
   "source": [
    "X_train, X_test, y_train, y_test=train_test_split(train,test,test_size=0.3, random_state=2)\n",
    "print(X_test)"
   ]
  },
  {
   "cell_type": "code",
   "execution_count": 60,
   "id": "63107b2d",
   "metadata": {},
   "outputs": [],
   "source": [
    "regr=LinearRegression()"
   ]
  },
  {
   "cell_type": "code",
   "execution_count": 65,
   "id": "7a7fca65",
   "metadata": {},
   "outputs": [
    {
     "data": {
      "text/plain": [
       "LinearRegression()"
      ]
     },
     "execution_count": 65,
     "metadata": {},
     "output_type": "execute_result"
    }
   ],
   "source": [
    "regr.fit(X_train,y_train)"
   ]
  },
  {
   "cell_type": "code",
   "execution_count": 72,
   "id": "9cdc64a4",
   "metadata": {},
   "outputs": [
    {
     "name": "stderr",
     "output_type": "stream",
     "text": [
      "/Library/Frameworks/Python.framework/Versions/3.7/lib/python3.7/site-packages/sklearn/base.py:442: UserWarning: X does not have valid feature names, but LinearRegression was fitted with feature names\n",
      "  \"X does not have valid feature names, but\"\n"
     ]
    }
   ],
   "source": [
    "pred=regr.predict([[1995,30]])"
   ]
  },
  {
   "cell_type": "code",
   "execution_count": 73,
   "id": "5c3407c5",
   "metadata": {},
   "outputs": [
    {
     "data": {
      "text/plain": [
       "array([95.72156585])"
      ]
     },
     "execution_count": 73,
     "metadata": {},
     "output_type": "execute_result"
    }
   ],
   "source": [
    "pred"
   ]
  },
  {
   "cell_type": "code",
   "execution_count": 64,
   "id": "0e75313f",
   "metadata": {},
   "outputs": [
    {
     "data": {
      "text/plain": [
       "0.0010214413190072769"
      ]
     },
     "execution_count": 64,
     "metadata": {},
     "output_type": "execute_result"
    }
   ],
   "source": [
    "regr.score(X_test, y_test)"
   ]
  },
  {
   "cell_type": "code",
   "execution_count": 56,
   "id": "858ea7f7",
   "metadata": {},
   "outputs": [
    {
     "data": {
      "text/plain": [
       "<seaborn.axisgrid.FacetGrid at 0x7fca716af358>"
      ]
     },
     "execution_count": 56,
     "metadata": {},
     "output_type": "execute_result"
    },
    {
     "data": {
      "image/png": "[encoded data removed]",
      "text/plain": [
       "<Figure size 360x360 with 1 Axes>"
      ]
     },
     "metadata": {
      "needs_background": "light"
     },
     "output_type": "display_data"
    }
   ],
   "source": []
  },
  {
   "cell_type": "code",
   "execution_count": 21,
   "id": "7b6157b8",
   "metadata": {},
   "outputs": [
    {
     "data": {
      "text/plain": [
       "<seaborn.axisgrid.FacetGrid at 0x7fc6163a6ef0>"
      ]
     },
     "execution_count": 21,
     "metadata": {},
     "output_type": "execute_result"
    },
    {
     "data": {
      "image/png": "[encoded data removed]",
      "text/plain": [
       "<Figure size 421.375x360 with 1 Axes>"
      ]
     },
     "metadata": {
      "needs_background": "light"
     },
     "output_type": "display_data"
    }
   ],
   "source": []
  },
  {
   "cell_type": "code",
   "execution_count": 24,
   "id": "1926e7b7",
   "metadata": {},
   "outputs": [],
   "source": []
  },
  {
   "cell_type": "code",
   "execution_count": 25,
   "id": "fb0add4d",
   "metadata": {},
   "outputs": [
    {
     "data": {
      "text/plain": [
       "<seaborn.axisgrid.FacetGrid at 0x7fc615f12c50>"
      ]
     },
     "execution_count": 25,
     "metadata": {},
     "output_type": "execute_result"
    },
    {
     "data": {
      "image/png": "[encoded data removed]",
      "text/plain": [
       "<Figure size 417.975x360 with 1 Axes>"
      ]
     },
     "metadata": {},
     "output_type": "display_data"
    }
   ],
   "source": []
  },
  {
   "cell_type": "code",
   "execution_count": null,
   "id": "c1eec4a5",
   "metadata": {},
   "outputs": [],
   "source": []
  },
  {
   "cell_type": "code",
   "execution_count": null,
   "id": "de8df5a8",
   "metadata": {},
   "outputs": [],
   "source": []
  }
 ],
 "metadata": {
  "kernelspec": {
   "display_name": "Python 3 (ipykernel)",
   "language": "python",
   "name": "python3"
  },
  "language_info": {
   "codemirror_mode": {
    "name": "ipython",
    "version": 3
   },
   "file_extension": ".py",
   "mimetype": "text/x-python",
   "name": "python",
   "nbconvert_exporter": "python",
   "pygments_lexer": "ipython3",
   "version": "3.7.0"
  }
 },
 "nbformat": 4,
 "nbformat_minor": 5
}
